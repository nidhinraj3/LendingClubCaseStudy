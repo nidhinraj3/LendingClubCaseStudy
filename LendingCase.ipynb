{
  "nbformat": 4,
  "nbformat_minor": 0,
  "metadata": {
    "colab": {
      "name": "LendingCase.ipynb",
      "provenance": [],
      "collapsed_sections": [],
      "include_colab_link": true
    },
    "kernelspec": {
      "name": "python3",
      "display_name": "Python 3"
    },
    "language_info": {
      "name": "python"
    }
  },
  "cells": [
    {
      "cell_type": "markdown",
      "metadata": {
        "id": "view-in-github",
        "colab_type": "text"
      },
      "source": [
        "<a href=\"https://colab.research.google.com/github/nidhinraj3/LendingClubCaseStudy/blob/main/LendingCase.ipynb\" target=\"_parent\"><img src=\"https://colab.research.google.com/assets/colab-badge.svg\" alt=\"Open In Colab\"/></a>"
      ]
    },
    {
      "cell_type": "markdown",
      "source": [
        "####<font color='Green' size='5'><b>Problem Statement</b></font>"
      ],
      "metadata": {
        "id": "xowIk_NqCSHp"
      }
    },
    {
      "cell_type": "markdown",
      "source": [
        "\n",
        "A consumer finance company specialises in lending various types of loans to urban customers. When the company receives a loan application, the company has to make a decision for loan approval based on the applicant’s profile.\n",
        "\n",
        "Two types of risks are associated with the bank’s decision:\n",
        "\n",
        "\n",
        "1.   If the applicant is likely to repay the loan, then not approving the loan results in a loss of business to the company\n",
        "2.   If the applicant is not likely to repay the loan, i.e. he/she is likely to default, then approving the loan may lead to a financial loss for the company\n",
        "\n",
        "**Business Objective**\n",
        "\n",
        "The aim is to identify patterns which indicate if a person is likely to be defaulter, which may be used for taking actions such as denying the loan, reducing the amount of loan, lending (to risky applicants) at a higher interest rate, etc.\n",
        "\n",
        "Therby identifying such loan applicants risky loans can be reduced thereby cutting down the credit loss(financial loss).\n"
      ],
      "metadata": {
        "id": "LfD83yvdBr0s"
      }
    },
    {
      "cell_type": "markdown",
      "source": [
        "####<font color='Green' size='5'><b>Data Understanding</b></font>"
      ],
      "metadata": {
        "id": "b23zlUmHFG8E"
      }
    },
    {
      "cell_type": "code",
      "source": [
        "#import the libraries\n",
        "import pandas as pd\n",
        "import numpy as np\n",
        "import seaborn as sns\n",
        "import matplotlib.pyplot as plt"
      ],
      "metadata": {
        "id": "SuU9gTYZFRpP"
      },
      "execution_count": 2,
      "outputs": []
    },
    {
      "cell_type": "code",
      "source": [
        "#read the dataset\n",
        "loan_data=pd.read_csv(\"loan.csv\")"
      ],
      "metadata": {
        "colab": {
          "base_uri": "https://localhost:8080/",
          "height": 242
        },
        "id": "820bzHdDFUMI",
        "outputId": "97761c7d-2f9b-4523-a87c-95527f9b540c"
      },
      "execution_count": 3,
      "outputs": [
        {
          "output_type": "error",
          "ename": "ParserError",
          "evalue": "ignored",
          "traceback": [
            "\u001b[0;31m---------------------------------------------------------------------------\u001b[0m",
            "\u001b[0;31mParserError\u001b[0m                               Traceback (most recent call last)",
            "\u001b[0;32m<ipython-input-3-582d1b02bade>\u001b[0m in \u001b[0;36m<module>\u001b[0;34m()\u001b[0m\n\u001b[1;32m      1\u001b[0m \u001b[0;31m#read the dataset\u001b[0m\u001b[0;34m\u001b[0m\u001b[0;34m\u001b[0m\u001b[0;34m\u001b[0m\u001b[0m\n\u001b[0;32m----> 2\u001b[0;31m \u001b[0mloan_data\u001b[0m\u001b[0;34m=\u001b[0m\u001b[0mpd\u001b[0m\u001b[0;34m.\u001b[0m\u001b[0mread_csv\u001b[0m\u001b[0;34m(\u001b[0m\u001b[0;34m\"loan.csv\"\u001b[0m\u001b[0;34m)\u001b[0m\u001b[0;34m\u001b[0m\u001b[0;34m\u001b[0m\u001b[0m\n\u001b[0m",
            "\u001b[0;32m/usr/local/lib/python3.7/dist-packages/pandas/util/_decorators.py\u001b[0m in \u001b[0;36mwrapper\u001b[0;34m(*args, **kwargs)\u001b[0m\n\u001b[1;32m    309\u001b[0m                     \u001b[0mstacklevel\u001b[0m\u001b[0;34m=\u001b[0m\u001b[0mstacklevel\u001b[0m\u001b[0;34m,\u001b[0m\u001b[0;34m\u001b[0m\u001b[0;34m\u001b[0m\u001b[0m\n\u001b[1;32m    310\u001b[0m                 )\n\u001b[0;32m--> 311\u001b[0;31m             \u001b[0;32mreturn\u001b[0m \u001b[0mfunc\u001b[0m\u001b[0;34m(\u001b[0m\u001b[0;34m*\u001b[0m\u001b[0margs\u001b[0m\u001b[0;34m,\u001b[0m \u001b[0;34m**\u001b[0m\u001b[0mkwargs\u001b[0m\u001b[0;34m)\u001b[0m\u001b[0;34m\u001b[0m\u001b[0;34m\u001b[0m\u001b[0m\n\u001b[0m\u001b[1;32m    312\u001b[0m \u001b[0;34m\u001b[0m\u001b[0m\n\u001b[1;32m    313\u001b[0m         \u001b[0;32mreturn\u001b[0m \u001b[0mwrapper\u001b[0m\u001b[0;34m\u001b[0m\u001b[0;34m\u001b[0m\u001b[0m\n",
            "\u001b[0;32m/usr/local/lib/python3.7/dist-packages/pandas/io/parsers/readers.py\u001b[0m in \u001b[0;36mread_csv\u001b[0;34m(filepath_or_buffer, sep, delimiter, header, names, index_col, usecols, squeeze, prefix, mangle_dupe_cols, dtype, engine, converters, true_values, false_values, skipinitialspace, skiprows, skipfooter, nrows, na_values, keep_default_na, na_filter, verbose, skip_blank_lines, parse_dates, infer_datetime_format, keep_date_col, date_parser, dayfirst, cache_dates, iterator, chunksize, compression, thousands, decimal, lineterminator, quotechar, quoting, doublequote, escapechar, comment, encoding, encoding_errors, dialect, error_bad_lines, warn_bad_lines, on_bad_lines, delim_whitespace, low_memory, memory_map, float_precision, storage_options)\u001b[0m\n\u001b[1;32m    584\u001b[0m     \u001b[0mkwds\u001b[0m\u001b[0;34m.\u001b[0m\u001b[0mupdate\u001b[0m\u001b[0;34m(\u001b[0m\u001b[0mkwds_defaults\u001b[0m\u001b[0;34m)\u001b[0m\u001b[0;34m\u001b[0m\u001b[0;34m\u001b[0m\u001b[0m\n\u001b[1;32m    585\u001b[0m \u001b[0;34m\u001b[0m\u001b[0m\n\u001b[0;32m--> 586\u001b[0;31m     \u001b[0;32mreturn\u001b[0m \u001b[0m_read\u001b[0m\u001b[0;34m(\u001b[0m\u001b[0mfilepath_or_buffer\u001b[0m\u001b[0;34m,\u001b[0m \u001b[0mkwds\u001b[0m\u001b[0;34m)\u001b[0m\u001b[0;34m\u001b[0m\u001b[0;34m\u001b[0m\u001b[0m\n\u001b[0m\u001b[1;32m    587\u001b[0m \u001b[0;34m\u001b[0m\u001b[0m\n\u001b[1;32m    588\u001b[0m \u001b[0;34m\u001b[0m\u001b[0m\n",
            "\u001b[0;32m/usr/local/lib/python3.7/dist-packages/pandas/io/parsers/readers.py\u001b[0m in \u001b[0;36m_read\u001b[0;34m(filepath_or_buffer, kwds)\u001b[0m\n\u001b[1;32m    486\u001b[0m \u001b[0;34m\u001b[0m\u001b[0m\n\u001b[1;32m    487\u001b[0m     \u001b[0;32mwith\u001b[0m \u001b[0mparser\u001b[0m\u001b[0;34m:\u001b[0m\u001b[0;34m\u001b[0m\u001b[0;34m\u001b[0m\u001b[0m\n\u001b[0;32m--> 488\u001b[0;31m         \u001b[0;32mreturn\u001b[0m \u001b[0mparser\u001b[0m\u001b[0;34m.\u001b[0m\u001b[0mread\u001b[0m\u001b[0;34m(\u001b[0m\u001b[0mnrows\u001b[0m\u001b[0;34m)\u001b[0m\u001b[0;34m\u001b[0m\u001b[0;34m\u001b[0m\u001b[0m\n\u001b[0m\u001b[1;32m    489\u001b[0m \u001b[0;34m\u001b[0m\u001b[0m\n\u001b[1;32m    490\u001b[0m \u001b[0;34m\u001b[0m\u001b[0m\n",
            "\u001b[0;32m/usr/local/lib/python3.7/dist-packages/pandas/io/parsers/readers.py\u001b[0m in \u001b[0;36mread\u001b[0;34m(self, nrows)\u001b[0m\n\u001b[1;32m   1045\u001b[0m     \u001b[0;32mdef\u001b[0m \u001b[0mread\u001b[0m\u001b[0;34m(\u001b[0m\u001b[0mself\u001b[0m\u001b[0;34m,\u001b[0m \u001b[0mnrows\u001b[0m\u001b[0;34m=\u001b[0m\u001b[0;32mNone\u001b[0m\u001b[0;34m)\u001b[0m\u001b[0;34m:\u001b[0m\u001b[0;34m\u001b[0m\u001b[0;34m\u001b[0m\u001b[0m\n\u001b[1;32m   1046\u001b[0m         \u001b[0mnrows\u001b[0m \u001b[0;34m=\u001b[0m \u001b[0mvalidate_integer\u001b[0m\u001b[0;34m(\u001b[0m\u001b[0;34m\"nrows\"\u001b[0m\u001b[0;34m,\u001b[0m \u001b[0mnrows\u001b[0m\u001b[0;34m)\u001b[0m\u001b[0;34m\u001b[0m\u001b[0;34m\u001b[0m\u001b[0m\n\u001b[0;32m-> 1047\u001b[0;31m         \u001b[0mindex\u001b[0m\u001b[0;34m,\u001b[0m \u001b[0mcolumns\u001b[0m\u001b[0;34m,\u001b[0m \u001b[0mcol_dict\u001b[0m \u001b[0;34m=\u001b[0m \u001b[0mself\u001b[0m\u001b[0;34m.\u001b[0m\u001b[0m_engine\u001b[0m\u001b[0;34m.\u001b[0m\u001b[0mread\u001b[0m\u001b[0;34m(\u001b[0m\u001b[0mnrows\u001b[0m\u001b[0;34m)\u001b[0m\u001b[0;34m\u001b[0m\u001b[0;34m\u001b[0m\u001b[0m\n\u001b[0m\u001b[1;32m   1048\u001b[0m \u001b[0;34m\u001b[0m\u001b[0m\n\u001b[1;32m   1049\u001b[0m         \u001b[0;32mif\u001b[0m \u001b[0mindex\u001b[0m \u001b[0;32mis\u001b[0m \u001b[0;32mNone\u001b[0m\u001b[0;34m:\u001b[0m\u001b[0;34m\u001b[0m\u001b[0;34m\u001b[0m\u001b[0m\n",
            "\u001b[0;32m/usr/local/lib/python3.7/dist-packages/pandas/io/parsers/c_parser_wrapper.py\u001b[0m in \u001b[0;36mread\u001b[0;34m(self, nrows)\u001b[0m\n\u001b[1;32m    222\u001b[0m         \u001b[0;32mtry\u001b[0m\u001b[0;34m:\u001b[0m\u001b[0;34m\u001b[0m\u001b[0;34m\u001b[0m\u001b[0m\n\u001b[1;32m    223\u001b[0m             \u001b[0;32mif\u001b[0m \u001b[0mself\u001b[0m\u001b[0;34m.\u001b[0m\u001b[0mlow_memory\u001b[0m\u001b[0;34m:\u001b[0m\u001b[0;34m\u001b[0m\u001b[0;34m\u001b[0m\u001b[0m\n\u001b[0;32m--> 224\u001b[0;31m                 \u001b[0mchunks\u001b[0m \u001b[0;34m=\u001b[0m \u001b[0mself\u001b[0m\u001b[0;34m.\u001b[0m\u001b[0m_reader\u001b[0m\u001b[0;34m.\u001b[0m\u001b[0mread_low_memory\u001b[0m\u001b[0;34m(\u001b[0m\u001b[0mnrows\u001b[0m\u001b[0;34m)\u001b[0m\u001b[0;34m\u001b[0m\u001b[0;34m\u001b[0m\u001b[0m\n\u001b[0m\u001b[1;32m    225\u001b[0m                 \u001b[0;31m# destructive to chunks\u001b[0m\u001b[0;34m\u001b[0m\u001b[0;34m\u001b[0m\u001b[0;34m\u001b[0m\u001b[0m\n\u001b[1;32m    226\u001b[0m                 \u001b[0mdata\u001b[0m \u001b[0;34m=\u001b[0m \u001b[0m_concatenate_chunks\u001b[0m\u001b[0;34m(\u001b[0m\u001b[0mchunks\u001b[0m\u001b[0;34m)\u001b[0m\u001b[0;34m\u001b[0m\u001b[0;34m\u001b[0m\u001b[0m\n",
            "\u001b[0;32m/usr/local/lib/python3.7/dist-packages/pandas/_libs/parsers.pyx\u001b[0m in \u001b[0;36mpandas._libs.parsers.TextReader.read_low_memory\u001b[0;34m()\u001b[0m\n",
            "\u001b[0;32m/usr/local/lib/python3.7/dist-packages/pandas/_libs/parsers.pyx\u001b[0m in \u001b[0;36mpandas._libs.parsers.TextReader._read_rows\u001b[0;34m()\u001b[0m\n",
            "\u001b[0;32m/usr/local/lib/python3.7/dist-packages/pandas/_libs/parsers.pyx\u001b[0m in \u001b[0;36mpandas._libs.parsers.TextReader._tokenize_rows\u001b[0;34m()\u001b[0m\n",
            "\u001b[0;32m/usr/local/lib/python3.7/dist-packages/pandas/_libs/parsers.pyx\u001b[0m in \u001b[0;36mpandas._libs.parsers.raise_parser_error\u001b[0;34m()\u001b[0m\n",
            "\u001b[0;31mParserError\u001b[0m: Error tokenizing data. C error: EOF inside string starting at row 34219"
          ]
        }
      ]
    },
    {
      "cell_type": "code",
      "source": [
        "#Read the First five rows\n",
        "loan_df.head()"
      ],
      "metadata": {
        "id": "DT8Z_kSYmhRa"
      },
      "execution_count": null,
      "outputs": []
    },
    {
      "cell_type": "code",
      "source": [
        "#shape of the dataframe\n",
        "loan_df.shape"
      ],
      "metadata": {
        "id": "4KsO6qS0m333"
      },
      "execution_count": null,
      "outputs": []
    },
    {
      "cell_type": "markdown",
      "source": [
        "Here we understand that the size of the dataset which have 39717 records and 111 columns"
      ],
      "metadata": {
        "id": "-DUMDawYrXXn"
      }
    },
    {
      "cell_type": "code",
      "source": [
        "#information about the dataframe\n",
        "loan_df.info()"
      ],
      "metadata": {
        "id": "4UBgGM1trNvB"
      },
      "execution_count": null,
      "outputs": []
    },
    {
      "cell_type": "code",
      "source": [
        "#information about the dataframe with full summary and col counts\n",
        "loan_df.info(verbose=True,show_counts=True)"
      ],
      "metadata": {
        "id": "7-6bSZSbnAKs"
      },
      "execution_count": null,
      "outputs": []
    },
    {
      "cell_type": "code",
      "source": [
        "#data types for the data frame\n",
        "loan_df.describe()"
      ],
      "metadata": {
        "id": "EXlapVsNnGFN"
      },
      "execution_count": null,
      "outputs": []
    },
    {
      "cell_type": "markdown",
      "metadata": {
        "id": "iw_EIKz-QrrM"
      },
      "source": [
        "#### <font color='Green' size='5'><b>Data Handling/ Cleansing</b></font>"
      ]
    },
    {
      "cell_type": "markdown",
      "source": [
        "We will need to make sure that there are no missing values or incorrect data types before analysis.\n",
        "\n",
        "We will use the following:\n",
        "\n",
        "For Missing Values: \n",
        "\n",
        "1.   Dropping the rows/columns containing missing values\n",
        "2.   Imputing the missing values\n",
        "\n",
        "\n",
        "Incorrect Data Types:\n",
        "\n",
        "1.   Clean values\n",
        "2.   Convert incorrect column type\n",
        "\n",
        "\n",
        "\n"
      ],
      "metadata": {
        "id": "9QG3P63QsfMw"
      }
    },
    {
      "cell_type": "code",
      "source": [
        "#Copy the dataframe to flter dataframe\n",
        "filter_df = loan_df"
      ],
      "metadata": {
        "id": "e_0ZXl9P_B2M"
      },
      "execution_count": null,
      "outputs": []
    },
    {
      "cell_type": "code",
      "source": [
        "# Get the shape of the filter df and validate its the same \n",
        "filter_df.shape"
      ],
      "metadata": {
        "id": "swew610j_N7I"
      },
      "execution_count": null,
      "outputs": []
    },
    {
      "cell_type": "code",
      "source": [
        "# Get the count of missing values\n",
        "filter_df.isnull().sum()//len(filter_df) * 100"
      ],
      "metadata": {
        "id": "6zSUNdOf-jtl"
      },
      "execution_count": null,
      "outputs": []
    },
    {
      "cell_type": "markdown",
      "source": [
        "From the info method and null values percentile we are able to identify the following columns are empty and does not have any data. So we would remove this columns\n",
        "\n",
        "|Column Names|\n",
        "|------------|\n",
        "|mths_since_last_major_derog|\n",
        "annual_inc_joint    \n",
        "dti_joint                   \n",
        "verification_status_joint<br>\n",
        "tot_coll_amt<br>\n",
        "tot_cur_bal<br>\n",
        "open_acc_6m<br>\n",
        "open_il_6m<br>\n",
        "open_il_12m<br>\n",
        "open_il_24m<br>\n",
        "mths_since_rcnt_il<br>\n",
        "total_bal_il<br>\n",
        "il_util<br>\n",
        "open_rv_12m<br>\n",
        "open_rv_24m<br>\n",
        "max_bal_bc<br>\n",
        "all_util<br>\n",
        "total_rev_hi_lim<br>\n",
        "inq_fi<br>\n",
        "total_cu_tl<br>\n",
        "inq_last_12m<br>\n",
        "acc_open_past_24mths<br>\n",
        "avg_cur_bal<br>\n",
        "bc_open_to_buy<br>\n",
        "bc_util<br>\n",
        "mo_sin_old_il_acct<br>\n",
        "mo_sin_old_rev_tl_op<br>\n",
        "mo_sin_rcnt_rev_tl_op<br>\n",
        "mo_sin_rcnt_tl<br>\n",
        "mort_acc<br>\n",
        "mths_since_recent_bc<br>\n",
        "mths_since_recent_bc_dlq<br>\n",
        "mths_since_recent_inq<br>\n",
        "mths_since_recent_revol_delinq<br>\n",
        "num_accts_ever_120_pd<br>\n",
        "num_actv_bc_tl<br>\n",
        "num_actv_rev_tl<br>\n",
        "num_bc_sats<br>\n",
        "num_bc_tl<br>\n",
        "num_il_tl<br>\n",
        "num_op_rev_tl<br>\n",
        "num_rev_accts<br>\n",
        "num_rev_tl_bal_gt_0<br>\n",
        "num_sats<br>\n",
        "num_tl_120dpd_2m<br>\n",
        "num_tl_30dpd<br>\n",
        "num_tl_90g_dpd_24m<br>\n",
        "num_tl_op_past_12m<br>\n",
        "pct_tl_nvr_dlq<br>\n",
        "percent_bc_gt_75<br>\n",
        "tot_hi_cred_lim<br>\n",
        "total_bal_ex_mort<br>\n",
        "total_bc_limit<br>\n",
        "total_il_high_credit_limit<br>"
      ],
      "metadata": {
        "id": "gX5C9MkJtuw6"
      }
    },
    {
      "cell_type": "code",
      "source": [
        "#remove the empty columns from the data frame\n",
        "filter_df.drop(columns=['mths_since_last_major_derog',\n",
        "'annual_inc_joint',\n",
        "'dti_joint',\n",
        "'verification_status_joint',\n",
        "'tot_coll_amt',\n",
        "'tot_cur_bal',\n",
        "'open_acc_6m',\n",
        "'open_il_6m',\n",
        "'open_il_12m',\n",
        "'open_il_24m',\n",
        "'mths_since_rcnt_il',\n",
        "'total_bal_il',\n",
        "'il_util',\n",
        "'open_rv_12m',\n",
        "'open_rv_24m',\n",
        "'max_bal_bc',\n",
        "'all_util',\n",
        "'total_rev_hi_lim',\n",
        "'inq_fi',\n",
        "'total_cu_tl',\n",
        "'inq_last_12m',\n",
        "'acc_open_past_24mths',\n",
        "'avg_cur_bal',\n",
        "'bc_open_to_buy',\n",
        "'bc_util',\n",
        "'mo_sin_old_il_acct',\n",
        "'mo_sin_old_rev_tl_op',\n",
        "'mo_sin_rcnt_rev_tl_op',\n",
        "'mo_sin_rcnt_tl',\n",
        "'mort_acc',\n",
        "'mths_since_recent_bc',\n",
        "'mths_since_recent_bc_dlq',\n",
        "'mths_since_recent_inq',\n",
        "'mths_since_recent_revol_delinq',\n",
        "'num_accts_ever_120_pd',\n",
        "'num_actv_bc_tl',\n",
        "'num_actv_rev_tl',\n",
        "'num_bc_sats',\n",
        "'num_bc_tl',\n",
        "'num_il_tl',\n",
        "'num_op_rev_tl',\n",
        "'num_rev_accts',\n",
        "'num_rev_tl_bal_gt_0',\n",
        "'num_sats',\n",
        "'num_tl_120dpd_2m',\n",
        "'num_tl_30dpd',\n",
        "'num_tl_90g_dpd_24m',\n",
        "'num_tl_op_past_12m',\n",
        "'pct_tl_nvr_dlq',\n",
        "'percent_bc_gt_75',\n",
        "'tot_hi_cred_lim',\n",
        "'total_bal_ex_mort',\n",
        "'total_bc_limit',\n",
        "'total_il_high_credit_limit'],inplace=True)"
      ],
      "metadata": {
        "id": "IqBCd_fbvM7Q"
      },
      "execution_count": null,
      "outputs": []
    },
    {
      "cell_type": "code",
      "source": [
        "# get the new shape of the data frame\n",
        "filter_df.shape"
      ],
      "metadata": {
        "id": "nuPpK_2vyUeY"
      },
      "execution_count": null,
      "outputs": []
    },
    {
      "cell_type": "code",
      "source": [
        "# Now lets chaeck the columns and datatypes\n",
        "filter_df.info()  "
      ],
      "metadata": {
        "id": "_UWx6sCxybxw"
      },
      "execution_count": null,
      "outputs": []
    },
    {
      "cell_type": "markdown",
      "source": [
        "High level analysis of columns\n",
        "\n",
        "Field Name | Analysis | Is Required For Analysis |Missing Value Percentage  | Description\n",
        "--- | --- | --- | --- | ---\n",
        "loan_amnt                     |Amount requested|Yes|0.000000\n",
        "funded_amnt                   |Amount approved by LCS|Yes|0.000000\n",
        "funded_amnt_inv               |Amount approved by investors|Yes|0.000000\n",
        "term                          |Loan full term period|Yes|0.000000\n",
        "int_rate                      |Interest Rate of Loan|Yes|0.000000\n",
        "installment                   |Loan installment|Yes|0.000000\n",
        "grade                         |Loan grade assigned by LCS|Yes|0.000000\n",
        "sub_grade                     |Loan sub grade assigned by LCS|Yes|0.000000\n",
        "emp_length                    |Years employee has worked in the company|Yes|0.027066\n",
        "home_ownership                |Mortgage status |Yes|0.000000\n",
        "annual_inc                    |Members annual income|Yes|0.000000\n",
        "verification_status           |Verification details|Yes|0.000000\n",
        "issue_d                       |loan issue date, this data not available during loan request|No|0.000000\n",
        "loan_status                   |To track loan status|Yes|0.000000\n",
        "pymnt_plan                    |Only one pymnt plan available,Not helpful in analyzing|No|0.000000\n",
        "url                           |No info to analyze|No|0.000000\n",
        "desc                          |Description of loan, may contain some valuable info, since purpose field is there we can disregard this|No|0.325805\n",
        "purpose                       |Purpose of loan|Yes|0.000000\n",
        "title                         |Short desc abt loand, seems useful|Yes|0.000277\n",
        "zip_code                      |Addrss info, not useful|No|0.000000\n",
        "addr_state                    |Address info, not useful|No|0.000000\n",
        "dti                           |Ration required to calculate return ability|Yes|0.000000\n",
        "delinq_2yrs                   |Past due incidents Info not available at time of loan approval|No|0.000000\n",
        "earliest_cr_line              |Only after loan approval this info is available|No|0.000000\n",
        "inq_last_6mths                |No of inquiries|Yes|0.000000\n",
        "mths_since_last_delinq        |Not available at time of approval, Can skip|No|0.646625\n",
        "open_acc                      |Borrowers credit file is not yet opend at loan request approval|No|0.000000\n",
        "pub_rec                       |Public deregatory records|Yes|0.000000\n",
        "revol_bal                     |Balance is after loan approval|No|0.000000\n",
        "revol_util                    |Balance is after loan approval|No|0.001259\n",
        "total_acc                     |Credit file is not opened at loan approval stage|No|0.000000\n",
        "initial_list_status           |Same value on all records, not useful|No|0.000000\n",
        "out_prncp                     |For charged off analysis this figure helps |Yes|0.000000\n",
        "out_prncp_inv                 |For charged off analysis this figure helps|Yes|0.000000\n",
        "total_pymnt                   |Not availabe at loan approval stage|No|0.000000\n",
        "total_pymnt_inv               |Not availabe at loan approval stage|No|0.000000\n",
        "total_rec_prncp               |Not availabe at loan approval stage|No|0.000000\n",
        "total_rec_int                 |Not availabe at loan approval stage|No|0.000000\n",
        "total_rec_late_fee            |Not availabe at loan approval stage|No|0.000000\n",
        "recoveries                    |Not availabe at loan approval stage|No|0.000000\n",
        "collection_recovery_fee       |May be high collection fee , increase chance of chargeoff, lets try analysis|Yes|0.000000\n",
        "last_pymnt_d                  |Not available at loan approval stage|No|0.001788\n",
        "last_pymnt_amnt               |Not available at loan approval stage|No|0.000000\n",
        "last_credit_pull_d            |Not available at loan approval stage|No|0.000050\n",
        "collections_12_mths_ex_med    |Not available at loan approval stage|No|0.001410\n",
        "policy_code                   |Not important|No|0.000000\n",
        "application_type              |Helps to dientify default percentage for joint and individual account|Yes|0.000000\n",
        "acc_now_delinq                |Not available at loan approval stage|No|0.000000\n",
        "chargeoff_within_12_mths      |Yes , helps to identify default probability|Yes|0.001410\n",
        "delinq_amnt                   |Total amount on accounts for which borrower is now delinquent.This data not available during loan request|No|0.000000\n",
        "pub_rec_bankruptcies          |Public records on Bankruptcies|Yes|0.017549\n",
        "tax_liens                     |Same value 0 on all records,not useful for analysis|No|0.000982\n",
        "\n"
      ],
      "metadata": {
        "id": "Khm_6P9SsasZ"
      }
    },
    {
      "cell_type": "code",
      "source": [
        "filter_df.isnull().sum()/len(filter_df)*100"
      ],
      "metadata": {
        "id": "lo4_4UzBAWZ9"
      },
      "execution_count": null,
      "outputs": []
    },
    {
      "cell_type": "code",
      "source": [
        "#mths_since_last_record and next_pymnt_d contains less than 10% of data hence we will drop those columns\n",
        "filter_df.drop(columns=['next_pymnt_d','mths_since_last_record'],inplace=True)"
      ],
      "metadata": {
        "id": "f2kgtjewytyZ"
      },
      "execution_count": null,
      "outputs": []
    },
    {
      "cell_type": "code",
      "source": [
        "# lets validate the value counts for all the columns\n",
        "for i in filter_df.columns:\n",
        "    print(i, filter_df[i].value_counts())\n"
      ],
      "metadata": {
        "id": "nQdId3Iu0Pm4"
      },
      "execution_count": null,
      "outputs": []
    },
    {
      "cell_type": "markdown",
      "source": [
        "The Columns have similar counts of records as above and would add no value to our analysis hence we will drop them\n",
        "'collections_12_mths_ex_med', 'policy_code' , 'application_type' ,'acc_now_delinq',\n",
        "'chargeoff_within_12_mths ','delinq_amnt', 'tax_liens'"
      ],
      "metadata": {
        "id": "Uw-iv4vpBMek"
      }
    },
    {
      "cell_type": "code",
      "source": [
        "#droping the above columns\n",
        "filter_df.drop(columns=['collections_12_mths_ex_med', 'policy_code' , 'application_type','acc_now_delinq',\n",
        "'chargeoff_within_12_mths','delinq_amnt', 'tax_liens'],inplace=True)"
      ],
      "metadata": {
        "id": "7P_5pvo009ff"
      },
      "execution_count": null,
      "outputs": []
    },
    {
      "cell_type": "code",
      "source": [
        "# lets check the dataframe once again\n",
        "filter_df.info()"
      ],
      "metadata": {
        "id": "bWtzNLUf3Yjb"
      },
      "execution_count": null,
      "outputs": []
    },
    {
      "cell_type": "code",
      "source": [
        "# lets examine few records of the data frame\n",
        "filter_df.head(20)"
      ],
      "metadata": {
        "id": "MkRRk4L-3krL"
      },
      "execution_count": null,
      "outputs": []
    },
    {
      "cell_type": "markdown",
      "source": [
        "After viewing the records its noticied some of the columns does not add value to our analysis purpose.\n",
        "For eg. Loan ID or Member ID,Sub grade, description, URL, Public records, Total Payment interest, Late Fees, Last Payment Date or Amount.\n",
        "\n",
        "To avoid issues in our analysis we would drop those columns"
      ],
      "metadata": {
        "id": "1EYFQbojBu3x"
      }
    },
    {
      "cell_type": "code",
      "source": [
        "#droping the above columns\n",
        "filter_df.drop(columns=['id',\n",
        "'member_id',\n",
        "'sub_grade',\n",
        "'emp_title',\n",
        "'pymnt_plan',\n",
        "'url',\n",
        "'desc',\n",
        "'title',\n",
        "'zip_code',\n",
        "'dti',\n",
        "'delinq_2yrs',\n",
        "'earliest_cr_line',\n",
        "'mths_since_last_delinq',\n",
        "'pub_rec',\n",
        "'revol_bal',\n",
        "'initial_list_status',\n",
        "'out_prncp',\n",
        "'out_prncp_inv',\n",
        "'total_pymnt_inv',\n",
        "'total_rec_prncp',\n",
        "'total_rec_int',\n",
        "'total_rec_late_fee',\n",
        "'recoveries',\n",
        "'collection_recovery_fee',\n",
        "'last_pymnt_d',\n",
        "'last_pymnt_amnt',\n",
        "'last_credit_pull_d',\n",
        "'pub_rec_bankruptcies'],inplace = True)"
      ],
      "metadata": {
        "id": "Ji7op3Rf9aX5"
      },
      "execution_count": null,
      "outputs": []
    },
    {
      "cell_type": "code",
      "source": [
        "# lets check the dataframe once again\n",
        "filter_df.info()"
      ],
      "metadata": {
        "id": "FR7pdtahD20K"
      },
      "execution_count": null,
      "outputs": []
    },
    {
      "cell_type": "markdown",
      "source": [
        "###### <font color='#1C3879' size='5'>Missing Value Treatment</font>"
      ],
      "metadata": {
        "id": "miTHTpj3dHz-"
      }
    },
    {
      "cell_type": "code",
      "source": [
        "filter_df.isnull().sum()"
      ],
      "metadata": {
        "id": "deC2b9JGD71f"
      },
      "execution_count": null,
      "outputs": []
    },
    {
      "cell_type": "code",
      "source": [
        "#Inspect the nulls in the Revolving Utilization Rate\n",
        "filter_df[filter_df['revol_util'].isnull()]\n"
      ],
      "metadata": {
        "id": "PCfT1LYBdRXS"
      },
      "execution_count": null,
      "outputs": []
    },
    {
      "cell_type": "code",
      "source": [
        "#Drop the rows having null values in the Revolving Utilizaton field\n",
        "filter_df = filter_df[~filter_df['revol_util'].isnull()]\n",
        "#Check the shape of the dataframe\n",
        "filter_df.shape"
      ],
      "metadata": {
        "id": "hGhHI1_3d2gZ"
      },
      "execution_count": null,
      "outputs": []
    },
    {
      "cell_type": "code",
      "source": [
        "# Check the number of nulls in the values in the Revolving Utilizaton field\n",
        "filter_df.revol_util.isnull().sum()"
      ],
      "metadata": {
        "id": "zuvF-4kYeo_h"
      },
      "execution_count": null,
      "outputs": []
    },
    {
      "cell_type": "code",
      "source": [
        "#Check the most common value in the Employee_lenght column\n",
        "filter_df.emp_length.value_counts()"
      ],
      "metadata": {
        "id": "o9RdiowHe6-O"
      },
      "execution_count": null,
      "outputs": []
    },
    {
      "cell_type": "code",
      "source": [
        "#Check the nulls in the entire dataframe again\n",
        "filter_df.isnull().sum()"
      ],
      "metadata": {
        "id": "42Fg8aX9g0kS"
      },
      "execution_count": null,
      "outputs": []
    },
    {
      "cell_type": "code",
      "source": [
        "#Check the datatypes of all the columns \n",
        "filter_df.info()"
      ],
      "metadata": {
        "id": "-2O-WMGgg8KW"
      },
      "execution_count": null,
      "outputs": []
    },
    {
      "cell_type": "markdown",
      "source": [
        "###### <font color='#1C3879' size='5'>Handling Incorrect Data Types</font>"
      ],
      "metadata": {
        "id": "aaDKX1TReBLB"
      }
    },
    {
      "cell_type": "code",
      "source": [
        "#Lets chedk the data in Filterd data\n",
        "filter_df.head(10)"
      ],
      "metadata": {
        "id": "W4fqwttthUBK"
      },
      "execution_count": null,
      "outputs": []
    },
    {
      "cell_type": "code",
      "source": [
        "#Fixing the '%' in Interest Rate and converting to float type\n",
        "filter_df.int_rate = filter_df.int_rate.apply(lambda x : float(x[:-1]))"
      ],
      "metadata": {
        "id": "t7nM40NIhrZ6"
      },
      "execution_count": null,
      "outputs": []
    },
    {
      "cell_type": "code",
      "source": [
        "#verify the data type of Interest Rate \n",
        "filter_df.int_rate.dtype"
      ],
      "metadata": {
        "id": "BJEURjxIi6w8"
      },
      "execution_count": null,
      "outputs": []
    },
    {
      "cell_type": "code",
      "source": [
        "filter_df.int_rate.value_counts()"
      ],
      "metadata": {
        "id": "wZ52EbPojKan"
      },
      "execution_count": null,
      "outputs": []
    },
    {
      "cell_type": "code",
      "source": [
        "#Fixing the '%' in Revolving Rate and converting to float type\n",
        "filter_df.revol_util = filter_df.revol_util.apply(lambda x : float(x[:-1]))"
      ],
      "metadata": {
        "id": "DkatGg1ejSYN"
      },
      "execution_count": null,
      "outputs": []
    },
    {
      "cell_type": "code",
      "source": [
        "#verify the data type \n",
        "filter_df.revol_util.dtype"
      ],
      "metadata": {
        "id": "OQKw4SWyjvDe"
      },
      "execution_count": null,
      "outputs": []
    },
    {
      "cell_type": "code",
      "source": [
        "# value counts for Term Column\n",
        "filter_df.term.value_counts()"
      ],
      "metadata": {
        "id": "7TmHEKOwls49"
      },
      "execution_count": null,
      "outputs": []
    },
    {
      "cell_type": "code",
      "source": [
        "#Removing the 'months' from Term column and converting to int type\n",
        "filter_df.term = filter_df.term.apply( lambda x : int(x[0:3]))"
      ],
      "metadata": {
        "id": "KkFcYoDOj0xE"
      },
      "execution_count": null,
      "outputs": []
    },
    {
      "cell_type": "code",
      "source": [
        "#Verify the dtype\n",
        "filter_df.term.dtype"
      ],
      "metadata": {
        "id": "uqPhAabnlQkk"
      },
      "execution_count": null,
      "outputs": []
    },
    {
      "cell_type": "code",
      "source": [
        "#Analyse the Employee Lenght Columns\n",
        "filter_df.emp_length.value_counts()"
      ],
      "metadata": {
        "id": "1rNiGXS1l_OG"
      },
      "execution_count": null,
      "outputs": []
    },
    {
      "cell_type": "code",
      "source": [
        "#Rounding the total payment to 2 decimal places\n",
        "filter_df.total_pymnt = filter_df.total_pymnt.round(2)"
      ],
      "metadata": {
        "id": "YuG2o34p7QhE"
      },
      "execution_count": null,
      "outputs": []
    },
    {
      "cell_type": "code",
      "source": [
        "# Lets check the filter data frame for the null and data types\n",
        "filter_df.info()"
      ],
      "metadata": {
        "id": "Cml2r0iM7vuA"
      },
      "execution_count": null,
      "outputs": []
    },
    {
      "cell_type": "code",
      "source": [
        "filter_df.head(10)"
      ],
      "metadata": {
        "id": "JzJ7ZQmE5Ysq"
      },
      "execution_count": null,
      "outputs": []
    },
    {
      "cell_type": "markdown",
      "source": [
        "###### <font color='#1C3879' size='5'>Sanity Checks</font>"
      ],
      "metadata": {
        "id": "61TLzfgX4g8a"
      }
    },
    {
      "cell_type": "markdown",
      "source": [
        "We need to perform some sanity checks on the data to make suer they are correct.\n",
        "Some sanity checks can be:\n",
        "\n",
        "- Funded amount by investor less than or equal to the loan amount\n",
        "- Approved amount less than or equal to the loan amount\n",
        "- Loan status should not be current , we need to analyze only charged off and fully paid loans to reach our conclusions"
      ],
      "metadata": {
        "id": "6zQTDsGF4j5G"
      }
    },
    {
      "cell_type": "code",
      "source": [
        "# check on loan amount\n",
        "filter_df.loan_amnt.describe()"
      ],
      "metadata": {
        "id": "tBledvZj39kq"
      },
      "execution_count": null,
      "outputs": []
    },
    {
      "cell_type": "code",
      "source": [
        "# check amount funded by inverstor greater thean loan amount\n",
        "filter_df[filter_df.funded_amnt_inv > filter_df.loan_amnt]"
      ],
      "metadata": {
        "id": "jq3cEmei53-3"
      },
      "execution_count": null,
      "outputs": []
    },
    {
      "cell_type": "code",
      "source": [
        "# check amount approved by authority greater thean loan amount\n",
        "filter_df[filter_df.funded_amnt > filter_df.loan_amnt]"
      ],
      "metadata": {
        "id": "jPW6e_7R6Ndh"
      },
      "execution_count": null,
      "outputs": []
    },
    {
      "cell_type": "code",
      "source": [
        "filter_df.loan_status.value_counts()"
      ],
      "metadata": {
        "id": "KJemMky18pIU"
      },
      "execution_count": null,
      "outputs": []
    },
    {
      "cell_type": "code",
      "source": [
        "# Check how many loan in current status and remove them as it would affect the analysis\n",
        "filter_df = filter_df[filter_df.loan_status != 'Current']"
      ],
      "metadata": {
        "id": "pqAUDhPb6jul"
      },
      "execution_count": null,
      "outputs": []
    },
    {
      "cell_type": "markdown",
      "source": [
        "###### <font color='#1C3879' size='5'>Outliers Analysis</font>"
      ],
      "metadata": {
        "id": "ZDEu1VuJ9Exn"
      }
    },
    {
      "cell_type": "markdown",
      "source": [
        "Identifying and removing extreme values called outliers from our dataset. These values can disrubt our analysis and often provide us with a misleading perspective "
      ],
      "metadata": {
        "id": "JnoySQ1Y9JtZ"
      }
    },
    {
      "cell_type": "code",
      "source": [
        "#Box plot for the Loan Amount column\n",
        "plt.boxplot(filter_df.loan_amnt)\n",
        "plt.title(\"Loan Amount\")\n",
        "plt.show()\n"
      ],
      "metadata": {
        "id": "bUk_CVhr8I40"
      },
      "execution_count": null,
      "outputs": []
    },
    {
      "cell_type": "code",
      "source": [
        "#Check the loan amount greater 30000\n",
        "filter_df[filter_df.loan_amnt > 30000]"
      ],
      "metadata": {
        "id": "BvuCWUDW9ixO"
      },
      "execution_count": null,
      "outputs": []
    },
    {
      "cell_type": "code",
      "source": [
        "#Clean the Loan amount column\n",
        "filter_df= filter_df[filter_df.loan_amnt <= 30000]"
      ],
      "metadata": {
        "id": "5LDFWcrp-gJ3"
      },
      "execution_count": null,
      "outputs": []
    },
    {
      "cell_type": "code",
      "source": [
        "plt.boxplot(filter_df.loan_amnt)\n",
        "plt.title(\"Loan Amount\")\n",
        "plt.show()\n"
      ],
      "metadata": {
        "id": "gwG7bLdLAGAg"
      },
      "execution_count": null,
      "outputs": []
    },
    {
      "cell_type": "code",
      "source": [
        "filter_df.loan_amnt.describe()"
      ],
      "metadata": {
        "id": "919Z2SSlfLk3"
      },
      "execution_count": null,
      "outputs": []
    },
    {
      "cell_type": "code",
      "source": [
        "#Box plot for the Installment Amount column\n",
        "plt.boxplot(filter_df.installment)\n",
        "plt.title(\"Installment Amount\")\n",
        "plt.show()"
      ],
      "metadata": {
        "id": "5xFe3f5G_G-4"
      },
      "execution_count": null,
      "outputs": []
    },
    {
      "cell_type": "code",
      "source": [
        "filter_df.installment.describe()"
      ],
      "metadata": {
        "id": "HnoGDztO_-ub"
      },
      "execution_count": null,
      "outputs": []
    },
    {
      "cell_type": "code",
      "source": [
        "#Check the installment amount greater 900\n",
        "filter_df[filter_df.installment > 900]"
      ],
      "metadata": {
        "id": "O9iP4Q_gARqp"
      },
      "execution_count": null,
      "outputs": []
    },
    {
      "cell_type": "code",
      "source": [
        "#Clean the Installment amount column\n",
        "filter_df= filter_df[filter_df.installment <= 900]"
      ],
      "metadata": {
        "id": "qhqCp2vtA1uM"
      },
      "execution_count": null,
      "outputs": []
    },
    {
      "cell_type": "code",
      "source": [
        "plt.boxplot(filter_df.installment)\n",
        "plt.title(\"Installment Amount\")\n",
        "plt.show()"
      ],
      "metadata": {
        "id": "cvceGCu0BGcV"
      },
      "execution_count": null,
      "outputs": []
    },
    {
      "cell_type": "code",
      "source": [
        "plt.hist(filter_df.installment,bins=40)\n",
        "plt.show()"
      ],
      "metadata": {
        "id": "8zR9yNF_BI3f"
      },
      "execution_count": null,
      "outputs": []
    },
    {
      "cell_type": "code",
      "source": [
        "#Box plot for the Annual Income\n",
        "plt.boxplot(filter_df.annual_inc)\n",
        "plt.title(\"Annual Income\")\n",
        "plt.show()"
      ],
      "metadata": {
        "id": "76ogyTLiBXlt"
      },
      "execution_count": null,
      "outputs": []
    },
    {
      "cell_type": "code",
      "source": [
        "filter_df.annual_inc.describe()"
      ],
      "metadata": {
        "id": "CKbM71BgB5SV"
      },
      "execution_count": null,
      "outputs": []
    },
    {
      "cell_type": "code",
      "source": [
        "#Check the Annual Income greater than 150000\n",
        "filter_df[filter_df.annual_inc > 150000]\n",
        "\n"
      ],
      "metadata": {
        "id": "AVrjZkh7B9_g"
      },
      "execution_count": null,
      "outputs": []
    },
    {
      "cell_type": "code",
      "source": [
        "#Clean the Annual income greate than 150000 amount column\n",
        "filter_df= filter_df[filter_df.annual_inc <= 150000]"
      ],
      "metadata": {
        "id": "WiF-WQlCCxN0"
      },
      "execution_count": null,
      "outputs": []
    },
    {
      "cell_type": "code",
      "source": [
        "plt.boxplot(filter_df.annual_inc)\n",
        "plt.title(\"Annual Income\")\n",
        "plt.show()"
      ],
      "metadata": {
        "id": "PxNhBwoFDvW8"
      },
      "execution_count": null,
      "outputs": []
    },
    {
      "cell_type": "code",
      "source": [
        "filter_df.annual_inc.describe()"
      ],
      "metadata": {
        "id": "lQYUDLeWcDNn"
      },
      "execution_count": null,
      "outputs": []
    },
    {
      "cell_type": "code",
      "source": [
        "#Box plot for the Interest Rate column\n",
        "plt.boxplot(filter_df.int_rate)\n",
        "plt.title(\"Interest Rate\")\n",
        "plt.show()\n",
        "filter_df.int_rate.describe()"
      ],
      "metadata": {
        "id": "UvXngECCjMY0"
      },
      "execution_count": null,
      "outputs": []
    },
    {
      "cell_type": "code",
      "source": [
        "#Check the Interest Rate greate thean 24%\n",
        "filter_df[filter_df.int_rate > 24]"
      ],
      "metadata": {
        "id": "roVOLaKJj3M7"
      },
      "execution_count": null,
      "outputs": []
    },
    {
      "cell_type": "code",
      "source": [
        "#Clean the Interst rate greate than 24%\n",
        "filter_df= filter_df[filter_df.int_rate <= 24.00]"
      ],
      "metadata": {
        "id": "tJ82Cu3TkS-I"
      },
      "execution_count": null,
      "outputs": []
    },
    {
      "cell_type": "code",
      "source": [
        "plt.boxplot(filter_df.int_rate)\n",
        "plt.title(\"Interest Rate\")\n",
        "plt.show()\n",
        "filter_df.int_rate.describe()"
      ],
      "metadata": {
        "id": "EcqcrOK4kf9D"
      },
      "execution_count": null,
      "outputs": []
    },
    {
      "cell_type": "code",
      "source": [
        "# check the shape of the data frame\n",
        "filter_df.info()"
      ],
      "metadata": {
        "id": "gBcpqIK3DyCB"
      },
      "execution_count": null,
      "outputs": []
    },
    {
      "cell_type": "markdown",
      "source": [
        "######<font color='#1C3879' size='5'>Deriving Extra Columns</font>"
      ],
      "metadata": {
        "id": "yb6LLHkTewYy"
      }
    },
    {
      "cell_type": "code",
      "source": [
        "# Creating the Month Column from issue date, so as to have month\n",
        "filter_df['issue_m'] = filter_df.issue_d.apply(lambda x : x[0:3])"
      ],
      "metadata": {
        "id": "v2LJ9fLOevYf"
      },
      "execution_count": null,
      "outputs": []
    },
    {
      "cell_type": "code",
      "source": [
        "# Grouping Annual Income Amounts\n",
        "annual_bins = [0, 25000, 50000, 75000, 100000, 125000, 150000]\n",
        "annual_labels =['0-25000','25000-50000','50000-75000','75000-100000','100000-125000','125000+']\n",
        "filter_df['annual_inc_grp']  = pd.cut(filter_df.annual_inc, annual_bins,labels=annual_labels)"
      ],
      "metadata": {
        "id": "iHrgitczfERD"
      },
      "execution_count": null,
      "outputs": []
    },
    {
      "cell_type": "code",
      "source": [
        "# Grouping Loan Amounts\n",
        "loan_bins = [0, 5000, 10000, 15000, 20000, 25000, 30000]\n",
        "loan_labels =['0-5000','5000-10000','10000-15000','15000-20000','20000-25000','25000+']\n",
        "filter_df['loan_amnt_grp']  = pd.cut(filter_df.loan_amnt, loan_bins,labels=loan_labels)"
      ],
      "metadata": {
        "id": "xUHHEz9Eg0pd"
      },
      "execution_count": null,
      "outputs": []
    },
    {
      "cell_type": "code",
      "source": [
        "# Grouping Interest Rate amounts\n",
        "int_bins = [0, 5, 10, 15, 20, 25]\n",
        "int_labels =['0-5','5-10','10-15','15-20','20+']\n",
        "filter_df['int_rate_grp']  = pd.cut(filter_df.int_rate, int_bins,labels=int_labels)"
      ],
      "metadata": {
        "id": "Lj90dcLekxJH"
      },
      "execution_count": null,
      "outputs": []
    },
    {
      "cell_type": "code",
      "source": [
        "#Check the shape of the data frame and print some values\n",
        "filter_df.shape\n"
      ],
      "metadata": {
        "id": "mprBWqcemB10"
      },
      "execution_count": null,
      "outputs": []
    },
    {
      "cell_type": "code",
      "source": [
        "filter_df.head()"
      ],
      "metadata": {
        "id": "Ni9oy1gWmQK3"
      },
      "execution_count": null,
      "outputs": []
    },
    {
      "cell_type": "markdown",
      "source": [
        "####<font color='Green' size='5'><b>EDA: Exploratory Data Analysis</b></font>"
      ],
      "metadata": {
        "id": "Me0EBWPuBGRh"
      }
    },
    {
      "cell_type": "markdown",
      "source": [
        "##### Univariate Analysis"
      ],
      "metadata": {
        "id": "JiQPhNM7xU2i"
      }
    },
    {
      "cell_type": "code",
      "source": [
        "#filter all the Charged off loan to new data set\n",
        "chargedoff = filter_df[filter_df.loan_status == 'Charged Off']\n",
        "chargedoff"
      ],
      "metadata": {
        "id": "tZ7Fw926UbY2"
      },
      "execution_count": null,
      "outputs": []
    },
    {
      "cell_type": "markdown",
      "source": [
        "**Analysis:** "
      ],
      "metadata": {
        "id": "BSIRovfu-tEj"
      }
    },
    {
      "cell_type": "code",
      "source": [
        "# Frequency of the Loan Amonts\n",
        "plt.figure(figsize=(10,6))\n",
        "plt.hist(filter_df.loan_amnt,bins=40,hue=filter_df.loan_status)\n",
        "plt.title(\"Count of Loan Amounts\")\n",
        "plt.xlabel(\"Loan Amount\")\n",
        "plt.ylabel(\"Frequency\")\n",
        "plt.show()"
      ],
      "metadata": {
        "id": "5xtk_CJ5IsRs"
      },
      "execution_count": null,
      "outputs": []
    },
    {
      "cell_type": "code",
      "source": [
        "plt.figure(figsize=(10,6))\n",
        "sns.distplot(filter_df.loan_amnt,bins=40)\n",
        "plt.title(\"Distribution of Loan Amounts\")\n",
        "plt.xlabel(\"Loan Amount\")\n",
        "plt.ylabel(\"Density\")\n",
        "plt.show()"
      ],
      "metadata": {
        "id": "Bmbxm58zntqT"
      },
      "execution_count": null,
      "outputs": []
    },
    {
      "cell_type": "markdown",
      "source": [
        "**Observation**: From the bove plots we can observe that most of the Loan amounts are in 5000 to 20000"
      ],
      "metadata": {
        "id": "vgk1Wr3pnANb"
      }
    },
    {
      "cell_type": "markdown",
      "source": [
        "**Analysis:** Count of Full Paid Vs Charged Off Loans"
      ],
      "metadata": {
        "id": "oOzax8afAnK-"
      }
    },
    {
      "cell_type": "code",
      "source": [
        "#count of Fully Paid Vs Charged Off Loans\n",
        "plt.figure(figsize=(10,6))\n",
        "sns.countplot(filter_df.loan_status,hue = filter_df.loan_status,dodge=False )\n",
        "plt.title(\"Frequency of Loan Status\")\n",
        "plt.xlabel(\"Loan Status\")\n",
        "plt.ylabel(\"Frequency\")\n",
        "plt.legend([\"Fully Paid\",\"Charged Off\"])\n",
        "plt.show()"
      ],
      "metadata": {
        "id": "cregQzLu0v2i"
      },
      "execution_count": null,
      "outputs": []
    },
    {
      "cell_type": "markdown",
      "source": [
        "Observation:From the above plot we can observe that Frequency of Fully Paid Loans are more than that of Charged off Loans"
      ],
      "metadata": {
        "id": "3XBwJh8EujbQ"
      }
    },
    {
      "cell_type": "markdown",
      "source": [
        "**Analysis:** Frequency of Charged of Loans"
      ],
      "metadata": {
        "id": "JnUV1E9xBEM_"
      }
    },
    {
      "cell_type": "code",
      "source": [
        "#boxploat to describe the mean,min and max for the charge off loans\n",
        "plt.figure(figsize=(10,6))\n",
        "sns.boxplot(x=filter_df[filter_df.loan_status == 'Charged Off'].loan_status,y=chargedoff.loan_amnt)\n",
        "plt.title(\"Percentile of Charge off Loans with Loan Amounts\")\n",
        "plt.ylabel(\"Loan Amount\")\n",
        "plt.xlabel(\"Charged Off Loans\")\n",
        "plt.show()\n"
      ],
      "metadata": {
        "id": "ODC0tbNPTHP3"
      },
      "execution_count": null,
      "outputs": []
    },
    {
      "cell_type": "code",
      "source": [
        "plt.figure(figsize=(10,6))\n",
        "sns.distplot(filter_df[filter_df.loan_status == 'Charged Off'].loan_amnt)\n",
        "plt.title(\"Density of Charge off Loans with Loan Amounts\")\n",
        "plt.ylabel(\"Density\")\n",
        "plt.xlabel(\"Charged Off Loans\")\n",
        "plt.show()"
      ],
      "metadata": {
        "id": "RbbI9hA7o-Dc"
      },
      "execution_count": null,
      "outputs": []
    },
    {
      "cell_type": "markdown",
      "source": [
        "Observation:From the bove plots we can observe that most of the charge of loan amounts are between 5000 to 15000"
      ],
      "metadata": {
        "id": "oMb0F4_1po5l"
      }
    },
    {
      "cell_type": "markdown",
      "source": [
        "**Analysis:** Frequency of Loan Terms with Respect to Laon Status"
      ],
      "metadata": {
        "id": "3Bmyg-lGBPKo"
      }
    },
    {
      "cell_type": "code",
      "source": [
        "#count of Term of Loans\n",
        "plt.figure(figsize=(10,6))\n",
        "sns.countplot(filter_df.loan_status,hue=filter_df.term)\n",
        "plt.title(\"Frequency of Loan Terms for Charged Off Loans\")\n",
        "plt.xlabel(\"Loan Terms in Months\")\n",
        "plt.ylabel(\"Frequency\")\n",
        "plt.legend(['36 Months','60 Months'])\n",
        "plt.show()"
      ],
      "metadata": {
        "id": "rEXB0PP8I0ZH"
      },
      "execution_count": null,
      "outputs": []
    },
    {
      "cell_type": "markdown",
      "source": [
        "Observation:From the above we can observe thet Frequecy of 36 M Loan terms is higher that 60 M Loan Terms for both Charged off and Fully Paid Loans"
      ],
      "metadata": {
        "id": "Hrg2xgVSu3pU"
      }
    },
    {
      "cell_type": "markdown",
      "source": [
        "**Analysis:** Frequency of Home Ownership for the Charged off Loan Amounts"
      ],
      "metadata": {
        "id": "YDh1PR5LBue4"
      }
    },
    {
      "cell_type": "code",
      "source": [
        "\n",
        "plt.figure(figsize=(10,6))\n",
        "sns.countplot(chargedoff.home_ownership,hue=chargedoff.home_ownership,dodge=False)\n",
        "plt.title(\"Home Ownership Frequency for Charged Off Loans\")\n",
        "plt.xlabel(\"Home Ownership\")\n",
        "plt.ylabel(\"Frequency\")\n",
        "plt.show()"
      ],
      "metadata": {
        "id": "_2hAYOAaRfJ1"
      },
      "execution_count": null,
      "outputs": []
    },
    {
      "cell_type": "markdown",
      "source": [
        "Observation:From the above we can observe that Count of Charged off loans is more with Rented Homeownership whereas its less with Own Homeownership."
      ],
      "metadata": {
        "id": "zuHhseavy4k4"
      }
    },
    {
      "cell_type": "markdown",
      "source": [
        "**Analysis:** Count of the Purpose of Loans"
      ],
      "metadata": {
        "id": "CQ_55WWzCBL5"
      }
    },
    {
      "cell_type": "code",
      "source": [
        "#count of Purpose of Loans\n",
        "plt.figure(figsize=(15,8))\n",
        "sns.countplot(y=chargedoff.purpose,hue=chargedoff.purpose,dodge=False)\n",
        "plt.title(\"Purpose of Loans Frequency for Charged Off Loans\")\n",
        "plt.xlabel(\"Frequency\")\n",
        "plt.ylabel(\"Purpose\")\n",
        "plt.show()"
      ],
      "metadata": {
        "id": "YF-BGC3eyG96"
      },
      "execution_count": null,
      "outputs": []
    },
    {
      "cell_type": "markdown",
      "source": [
        "Observation:From the above we can observe that Count of debt_consolidation is more than any other purpose for Charged Off loans"
      ],
      "metadata": {
        "id": "SgsRwfTQxqdz"
      }
    },
    {
      "cell_type": "markdown",
      "source": [
        "##### Bi Variate analysis"
      ],
      "metadata": {
        "id": "z3eyXLTayB3c"
      }
    },
    {
      "cell_type": "code",
      "source": [
        "# Scatter plot to check the loan amount and interest rates for Charged Off Loans\n",
        "plt.figure(figsize=(20,6))\n",
        "sns.boxplot(chargedoff.int_rate_grp,chargedoff.loan_amnt)\n",
        "plt.title(\"Loan Amount Vs Interest Rates for Charged Off Loans\")\n",
        "plt.xlabel(\"Interest Rates\")\n",
        "plt.ylabel(\"Loan Amount\")\n",
        "plt.show"
      ],
      "metadata": {
        "id": "mc4DOQoJH2hl"
      },
      "execution_count": null,
      "outputs": []
    },
    {
      "cell_type": "markdown",
      "source": [
        "**Observation:** For Loan with Higher Amount we have higher rate of interest"
      ],
      "metadata": {
        "id": "1A5elV4YXL0Z"
      }
    },
    {
      "cell_type": "markdown",
      "source": [
        "**Analysis:** Home Ownership Frequency with respect to Loan Terms for Charged Off Loans"
      ],
      "metadata": {
        "id": "JTEESXjTCbmC"
      }
    },
    {
      "cell_type": "code",
      "source": [
        "\n",
        "plt.figure(figsize=(10,6))\n",
        "sns.countplot(chargedoff.home_ownership,hue=chargedoff.term)\n",
        "plt.title(\"Home Ownership Status Frequency for Loan Terms\")\n",
        "plt.xlabel(\"Home Ownership\")\n",
        "plt.ylabel(\"Frequency\")\n",
        "plt.show()"
      ],
      "metadata": {
        "id": "WoPbqUusYFHf"
      },
      "execution_count": null,
      "outputs": []
    },
    {
      "cell_type": "markdown",
      "source": [
        "Observation= From the above we can observe that loans with Home Ownership as Rent and low Payment terms are more for Charged off Loans"
      ],
      "metadata": {
        "id": "oVACsZQ7Da-9"
      }
    },
    {
      "cell_type": "markdown",
      "source": [
        "Grades vs Loan amount\n",
        "Annual income vs loan amount\n",
        "States vs loan amount\n",
        "Interest Rates vs loan amount\n",
        "Employee experience vs loan amount\n",
        "Purpose Vs loan amounts\n",
        "cdi vs loan amounts"
      ],
      "metadata": {
        "id": "iEQcIWL3ziRq"
      }
    },
    {
      "cell_type": "code",
      "source": [
        "plt.figure(figsize=(15,6))\n",
        "sns.barplot(x=chargedoff.grade,y=chargedoff.loan_amnt,hue=chargedoff.int_rate_grp, order='ABCDEFG')\n",
        "plt.title(\" Interest Rate according to Grade\")\n",
        "plt.xlabel(\"Grades\")\n",
        "plt.ylabel(\"Frequency\")\n",
        "plt.show()"
      ],
      "metadata": {
        "id": "Opevl9-pDGlj"
      },
      "execution_count": null,
      "outputs": []
    },
    {
      "cell_type": "markdown",
      "source": [
        "**Observation:**It is Observed Borrower with A Grade has less interest rate and has less Charged off loans as compared to Grades E,F,G which have high interest rates and high frequency of Charged Off loans"
      ],
      "metadata": {
        "id": "HRoLpVzxIVyo"
      }
    },
    {
      "cell_type": "markdown",
      "source": [
        "**Analysis**: Anuual Income with repect to Charged off Loans"
      ],
      "metadata": {
        "id": "TyjvLMHRJnaD"
      }
    },
    {
      "cell_type": "code",
      "source": [
        "annual_inc_loans = filter_df.groupby(['annual_inc_grp','loan_status']).loan_status.count().unstack().reset_index()"
      ],
      "metadata": {
        "id": "-PY5vSMrJm1v"
      },
      "execution_count": null,
      "outputs": []
    },
    {
      "cell_type": "code",
      "source": [
        "annual_inc_loans['Ratio'] = annual_inc_loans['Charged Off']/(annual_inc_loans['Charged Off'] + annual_inc_loans['Fully Paid'])\n",
        "annual_inc_loans"
      ],
      "metadata": {
        "id": "9CUnoag8E_OI"
      },
      "execution_count": null,
      "outputs": []
    },
    {
      "cell_type": "code",
      "source": [
        "plt.figure(figsize=(10,6))\n",
        "sns.barplot(x=annual_inc_loans.annual_inc_grp,y=annual_inc_loans.Ratio,hue=annual_inc_loans.annual_inc_grp)\n",
        "plt.title(\" Annual Income against Charge of Loans\")\n",
        "plt.xlabel(\"Annual Income Groups\")\n",
        "plt.ylabel(\"Charge off Ratio\")\n",
        "plt.show()"
      ],
      "metadata": {
        "id": "fzuWzSIQMap9"
      },
      "execution_count": null,
      "outputs": []
    },
    {
      "cell_type": "markdown",
      "source": [
        "**Observation:** High Amount of Charged off loans are with Borrowers whose Annual Income less than 25000 and as Annual income increases the Charged Off propability decreases"
      ],
      "metadata": {
        "id": "EmSvPJWkSQMa"
      }
    },
    {
      "cell_type": "markdown",
      "source": [
        "**Analysis**: Interest Rate Group with repect to Charged off Loans"
      ],
      "metadata": {
        "id": "z-4PkGspaQPn"
      }
    },
    {
      "cell_type": "code",
      "source": [
        "plt.figure(figsize=(10,6))\n",
        "sns.boxplot(filter_df.int_rate,filter_df.loan_status)\n",
        "plt.title(\" Interest Rate against Charge of Loans\")\n",
        "plt.xlabel(\"Interest Rate Groups\")\n",
        "plt.ylabel(\"Charge off Ratio\")\n",
        "plt.legend(bbox_to_anchor=(1.00,1.00))\n",
        "plt.show()"
      ],
      "metadata": {
        "id": "Iy65lKIpTtIo"
      },
      "execution_count": null,
      "outputs": []
    },
    {
      "cell_type": "markdown",
      "source": [
        "**Observation:** As amount of Interest rate increases the Charge-Off probability of the loan increases"
      ],
      "metadata": {
        "id": "jpV6bzxSaeOH"
      }
    },
    {
      "cell_type": "markdown",
      "source": [
        "**Analysis**: Loan amounts with respect to States and Loan Status"
      ],
      "metadata": {
        "id": "bKbkJ4DCg-_r"
      }
    },
    {
      "cell_type": "code",
      "source": [
        "plt.figure(figsize=(30,8))\n",
        "sns.barplot(x=filter_df.addr_state,y=filter_df.loan_amnt,hue=filter_df.loan_status,palette='rainbow')\n",
        "plt.title(\" Loan Amount Vs State Vs Status\")\n",
        "plt.xlabel(\"States\")\n",
        "plt.ylabel(\"Loan Amount\")\n",
        "plt.show()"
      ],
      "metadata": {
        "id": "-iUhjop1dfxu"
      },
      "execution_count": null,
      "outputs": []
    },
    {
      "cell_type": "markdown",
      "source": [
        "**Observation:** AK and TN has highest rate of Charged Off loans"
      ],
      "metadata": {
        "id": "VM5fmdtviovM"
      }
    },
    {
      "cell_type": "markdown",
      "source": [
        "**Analysis**: Loan amounts with respect to Employee Experience and Loan Status"
      ],
      "metadata": {
        "id": "71KAnBnZi0Z3"
      }
    },
    {
      "cell_type": "code",
      "source": [
        "plt.figure(figsize=(30,8))\n",
        "sns.barplot(x=filter_df.emp_length,y=filter_df.loan_amnt,hue=filter_df.loan_status)\n",
        "plt.title(\" Loan Amount Vs State Vs Status\")\n",
        "plt.xlabel(\"States\")\n",
        "plt.ylabel(\"Loan Amount\")\n",
        "plt.show()"
      ],
      "metadata": {
        "id": "zdOJT-UAfso7"
      },
      "execution_count": null,
      "outputs": []
    },
    {
      "cell_type": "code",
      "source": [
        ""
      ],
      "metadata": {
        "id": "-WbLtifKjG9w"
      },
      "execution_count": null,
      "outputs": []
    }
  ]
}